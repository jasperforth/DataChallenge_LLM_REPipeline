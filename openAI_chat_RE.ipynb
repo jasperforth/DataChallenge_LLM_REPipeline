{
 "cells": [
  {
   "cell_type": "code",
   "execution_count": 1,
   "metadata": {},
   "outputs": [
    {
     "name": "stdout",
     "output_type": "stream",
     "text": [
      "Intel MKL WARNING: Support of Intel(R) Streaming SIMD Extensions 4.2 (Intel(R) SSE4.2) enabled only processors has been deprecated. Intel oneAPI Math Kernel Library 2025.0 will require Intel(R) Advanced Vector Extensions (Intel(R) AVX) instructions.\n",
      "Intel MKL WARNING: Support of Intel(R) Streaming SIMD Extensions 4.2 (Intel(R) SSE4.2) enabled only processors has been deprecated. Intel oneAPI Math Kernel Library 2025.0 will require Intel(R) Advanced Vector Extensions (Intel(R) AVX) instructions.\n"
     ]
    }
   ],
   "source": [
    "import sys\n",
    "import os\n",
    "import pandas as pd\n",
    "from pathlib import Path\n",
    "from dotenv import load_dotenv, find_dotenv\n",
    "from openai import OpenAI\n",
    "import warnings\n",
    "\n",
    "# Load environment variables\n",
    "_ = load_dotenv(find_dotenv())\n",
    "\n",
    "# Append the submodules path to the local libs directory\n",
    "repo_dir = Path().resolve()\n",
    "sys.path.append(str(repo_dir / 'libs'))\n",
    "\n",
    "# Ensure the symlink exists (assuming setup_symlink.py has been executed)\n",
    "symlink_path = repo_dir / 'libs' / 'NLP_on_multilingual_coin_datasets'\n",
    "if not symlink_path.exists():\n",
    "    print(f\"Error: Symlink {symlink_path} does not exist. Run setup_symlink.py first.\")\n",
    "    sys.exit(1)\n",
    "\n",
    "# Import the custom modules after ensuring symlink is in place\n",
    "from NLP_on_multilingual_coin_datasets.cnt.io import Database_Connection\n",
    "from modules.loading_preprocessed_designs import PreprocessingConfig, LoadingPreprocessedDesigns\n",
    "from modules import scripts, prompts\n",
    "\n",
    "# Set up pandas display options for better readability\n",
    "pd.set_option('display.max_columns', None)\n",
    "pd.set_option('display.max_colwidth', None)\n",
    "pd.set_option('display.max_rows', None)\n",
    "pd.set_option('display.width', 1000)\n",
    "\n",
    "# Suppress warnings\n",
    "warnings.filterwarnings('ignore')\n",
    "\n",
    "# Access the OpenAI API key from environment variables\n",
    "api_key = os.getenv('OPENAI_API_KEY')\n",
    "\n",
    "prep_cfg = PreprocessingConfig\n",
    "\n"
   ]
  },
  {
   "cell_type": "markdown",
   "metadata": {},
   "source": [
    "Define preprocessing config varialbes else default values will be used."
   ]
  },
  {
   "cell_type": "markdown",
   "metadata": {},
   "source": [
    "Define filenames and paths"
   ]
  },
  {
   "cell_type": "code",
   "execution_count": 2,
   "metadata": {},
   "outputs": [],
   "source": [
    "json_dir = prep_cfg.json_path\n",
    "enhanced_json_filename = \"enhanced_objects.json\"\n",
    "sop_json_filename = \"subject_object_pairs.json\"\n",
    "pred_json_filename = \"subject_predicate_object_triples.json\""
   ]
  },
  {
   "cell_type": "markdown",
   "metadata": {},
   "source": [
    "Define database connection parameters or set them as environment variables."
   ]
  },
  {
   "cell_type": "code",
   "execution_count": 3,
   "metadata": {},
   "outputs": [],
   "source": [
    "db_user = os.getenv('DB_USER')\n",
    "db_password = os.getenv('DB_PASSWORD')\n",
    "db_host = os.getenv('DB_HOST')\n",
    "db_port = os.getenv('DB_PORT')\n",
    "database = prep_cfg.database\n",
    "\n",
    "dc = Database_Connection(f\"mysql+mysqlconnector://{db_user}:{db_password}@{db_host}:{db_port}/{database}\")"
   ]
  },
  {
   "cell_type": "markdown",
   "metadata": {},
   "source": [
    "# Load or preprocess data\n",
    "- Check for the preprocessed designs.csv file in the `data` directory. \n",
    "    - If it does not exist, get the data from the database and preprocess it.\n",
    "    - Else load the data from the file.\n",
    "- Create Dataframe"
   ]
  },
  {
   "cell_type": "code",
   "execution_count": 6,
   "metadata": {},
   "outputs": [
    {
     "name": "stderr",
     "output_type": "stream",
     "text": [
      "2024-09-01 17:50:21,433 - INFO - Checking if file data/source/lists/csv/annotated_designs.csv exists.\n",
      "2024-09-01 17:50:21,538 - INFO - Converting annotations to list.\n",
      "2024-09-01 17:50:22,449 - INFO - File exists and was loaded.\n"
     ]
    }
   ],
   "source": [
    "# TODO test file creation if not exist, after adjustments \n",
    "lpd = LoadingPreprocessedDesigns(dc, prep_cfg)\n",
    "df_designs = lpd.load_designs_csv_or_process_database()"
   ]
  },
  {
   "cell_type": "markdown",
   "metadata": {},
   "source": [
    "# Prep Dataframe \n",
    "\n",
    "- create copy\n",
    "- filter the columns id, design_en and annotations\n",
    "    - respresenting only the preprocessed columns"
   ]
  },
  {
   "cell_type": "code",
   "execution_count": 7,
   "metadata": {},
   "outputs": [
    {
     "name": "stdout",
     "output_type": "stream",
     "text": [
      "<class 'pandas.core.frame.DataFrame'>\n",
      "RangeIndex: 22333 entries, 0 to 22332\n",
      "Data columns (total 3 columns):\n",
      " #   Column       Non-Null Count  Dtype \n",
      "---  ------       --------------  ----- \n",
      " 0   id           22333 non-null  int64 \n",
      " 1   design_en    22333 non-null  object\n",
      " 2   annotations  22333 non-null  object\n",
      "dtypes: int64(1), object(2)\n",
      "memory usage: 523.6+ KB\n"
     ]
    }
   ],
   "source": [
    "df_designs_0 = df_designs.copy()\n",
    "df_designs = df_designs[[\"id\", \"design_en\", \"annotations\"]]\n",
    "df_designs.info()"
   ]
  },
  {
   "cell_type": "markdown",
   "metadata": {},
   "source": [
    "**create strings from annotations**"
   ]
  },
  {
   "cell_type": "code",
   "execution_count": 8,
   "metadata": {},
   "outputs": [
    {
     "data": {
      "text/html": [
       "<div>\n",
       "<style scoped>\n",
       "    .dataframe tbody tr th:only-of-type {\n",
       "        vertical-align: middle;\n",
       "    }\n",
       "\n",
       "    .dataframe tbody tr th {\n",
       "        vertical-align: top;\n",
       "    }\n",
       "\n",
       "    .dataframe thead th {\n",
       "        text-align: right;\n",
       "    }\n",
       "</style>\n",
       "<table border=\"1\" class=\"dataframe\">\n",
       "  <thead>\n",
       "    <tr style=\"text-align: right;\">\n",
       "      <th></th>\n",
       "      <th>id</th>\n",
       "      <th>design_en</th>\n",
       "      <th>annotations</th>\n",
       "      <th>list_of_strings</th>\n",
       "    </tr>\n",
       "  </thead>\n",
       "  <tbody>\n",
       "    <tr>\n",
       "      <th>0</th>\n",
       "      <td>1</td>\n",
       "      <td>Diadem head of deified Alexander the Great with horn of Ammon, right. Border of dots.</td>\n",
       "      <td>[(0, 6, OBJECT), (7, 11, OBJECT), (23, 42, PERSON), (48, 52, OBJECT)]</td>\n",
       "      <td>[(Diadem, OBJECT), (head, OBJECT), (Alexander the Great, PERSON), (horn, OBJECT)]</td>\n",
       "    </tr>\n",
       "    <tr>\n",
       "      <th>1</th>\n",
       "      <td>6</td>\n",
       "      <td>Altar, lighted and garland.</td>\n",
       "      <td>[(0, 5, OBJECT), (19, 26, OBJECT)]</td>\n",
       "      <td>[(Altar, OBJECT), (garland, OBJECT)]</td>\n",
       "    </tr>\n",
       "    <tr>\n",
       "      <th>2</th>\n",
       "      <td>8</td>\n",
       "      <td>Prize amphora on ornamental stand; within linear square and incuse square.</td>\n",
       "      <td>[(6, 13, OBJECT)]</td>\n",
       "      <td>[(amphora, OBJECT)]</td>\n",
       "    </tr>\n",
       "    <tr>\n",
       "      <th>3</th>\n",
       "      <td>9</td>\n",
       "      <td>Amphora with ribbed surface and crooked handleholding two corn and poppy.</td>\n",
       "      <td>[(0, 7, OBJECT), (58, 62, PLANT), (67, 72, PLANT)]</td>\n",
       "      <td>[(Amphora, OBJECT), (corn, PLANT), (poppy, PLANT)]</td>\n",
       "    </tr>\n",
       "    <tr>\n",
       "      <th>4</th>\n",
       "      <td>10</td>\n",
       "      <td>Bust of youthful Anchialos, right, wearing taenia. Border of dots.</td>\n",
       "      <td>[(0, 4, OBJECT), (17, 26, PERSON), (43, 49, OBJECT)]</td>\n",
       "      <td>[(Bust, OBJECT), (Anchialos, PERSON), (taenia, OBJECT)]</td>\n",
       "    </tr>\n",
       "  </tbody>\n",
       "</table>\n",
       "</div>"
      ],
      "text/plain": [
       "   id                                                                              design_en                                                            annotations                                                                    list_of_strings\n",
       "0   1  Diadem head of deified Alexander the Great with horn of Ammon, right. Border of dots.  [(0, 6, OBJECT), (7, 11, OBJECT), (23, 42, PERSON), (48, 52, OBJECT)]  [(Diadem, OBJECT), (head, OBJECT), (Alexander the Great, PERSON), (horn, OBJECT)]\n",
       "1   6                                                            Altar, lighted and garland.                                     [(0, 5, OBJECT), (19, 26, OBJECT)]                                               [(Altar, OBJECT), (garland, OBJECT)]\n",
       "2   8             Prize amphora on ornamental stand; within linear square and incuse square.                                                      [(6, 13, OBJECT)]                                                                [(amphora, OBJECT)]\n",
       "3   9              Amphora with ribbed surface and crooked handleholding two corn and poppy.                     [(0, 7, OBJECT), (58, 62, PLANT), (67, 72, PLANT)]                                 [(Amphora, OBJECT), (corn, PLANT), (poppy, PLANT)]\n",
       "4  10                     Bust of youthful Anchialos, right, wearing taenia. Border of dots.                   [(0, 4, OBJECT), (17, 26, PERSON), (43, 49, OBJECT)]                            [(Bust, OBJECT), (Anchialos, PERSON), (taenia, OBJECT)]"
      ]
     },
     "execution_count": 8,
     "metadata": {},
     "output_type": "execute_result"
    }
   ],
   "source": [
    "df_designs[\"list_of_strings\"] = df_designs.apply(scripts.generate_list_of_strings, axis=1)\n",
    "df_designs.head(5)"
   ]
  },
  {
   "cell_type": "markdown",
   "metadata": {},
   "source": [
    "**load RE examples from prepared JSON file**"
   ]
  },
  {
   "cell_type": "markdown",
   "metadata": {},
   "source": [
    "### Define a subset of the data to be used for the testing of the implementation.\n",
    "- 22332 rows"
   ]
  },
  {
   "cell_type": "code",
   "execution_count": 10,
   "metadata": {},
   "outputs": [
    {
     "name": "stdout",
     "output_type": "stream",
     "text": [
      "<class 'pandas.core.frame.DataFrame'>\n",
      "RangeIndex: 3275 entries, 0 to 3274\n",
      "Data columns (total 4 columns):\n",
      " #   Column           Non-Null Count  Dtype \n",
      "---  ------           --------------  ----- \n",
      " 0   id               3275 non-null   int64 \n",
      " 1   design_en        3275 non-null   object\n",
      " 2   annotations      3275 non-null   object\n",
      " 3   list_of_strings  3275 non-null   object\n",
      "dtypes: int64(1), object(3)\n",
      "memory usage: 102.5+ KB\n"
     ]
    }
   ],
   "source": [
    "start = 0 \n",
    "stop = 3275\n",
    "\n",
    "df_designs_source = df_designs.iloc[start:stop].copy()\n",
    "df_designs_source.info()"
   ]
  },
  {
   "cell_type": "markdown",
   "metadata": {},
   "source": [
    "# Step 0: Check for More Possible Subjects or Objects\n",
    "- **Input:** Design description and list of strings (entities).\n",
    "- **Output:** Identified subjects and objects categorized as PERSON, OBJECT, ANIMAL, PLANT.\n"
   ]
  },
  {
   "cell_type": "code",
   "execution_count": 11,
   "metadata": {},
   "outputs": [
    {
     "name": "stdout",
     "output_type": "stream",
     "text": [
      "<class 'pandas.core.frame.DataFrame'>\n",
      "Index: 75 entries, 3200 to 3274\n",
      "Data columns (total 4 columns):\n",
      " #   Column           Non-Null Count  Dtype \n",
      "---  ------           --------------  ----- \n",
      " 0   id               75 non-null     int64 \n",
      " 1   design_en        75 non-null     object\n",
      " 2   annotations      75 non-null     object\n",
      " 3   list_of_strings  75 non-null     object\n",
      "dtypes: int64(1), object(3)\n",
      "memory usage: 2.9+ KB\n"
     ]
    }
   ],
   "source": [
    "df_designs_filtered = scripts.filter_source_dataframe(df_designs_source, json_dir, enhanced_json_filename)\n",
    "df_designs_filtered.info()"
   ]
  },
  {
   "cell_type": "code",
   "execution_count": 13,
   "metadata": {},
   "outputs": [],
   "source": [
    "batch_size = 32\n",
    "batch_start = 0\n",
    "batch_stop = 1\n",
    "client = OpenAI(api_key=api_key)"
   ]
  },
  {
   "cell_type": "code",
   "execution_count": 14,
   "metadata": {},
   "outputs": [
    {
     "name": "stdout",
     "output_type": "stream",
     "text": [
      "Token count for prompt 0: 3333, Price: $0.01666\n",
      "Total token count: 3333\n",
      "Total input price: $0.01666\n"
     ]
    },
    {
     "data": {
      "text/plain": [
       "(3333, 0.016665)"
      ]
     },
     "execution_count": 14,
     "metadata": {},
     "output_type": "execute_result"
    }
   ],
   "source": [
    "prompts_enhance = prompts.enhance_objects_in_designs(df_designs_filtered, batch_size)\n",
    "scripts.calculate_total_tokens_and_price(\n",
    "    prompts_enhance, batch_start, batch_stop, \n",
    ")"
   ]
  },
  {
   "cell_type": "code",
   "execution_count": 15,
   "metadata": {},
   "outputs": [
    {
     "name": "stderr",
     "output_type": "stream",
     "text": [
      "2024-09-01 17:51:59,054 - INFO - HTTP Request: POST https://api.openai.com/v1/chat/completions \"HTTP/1.1 200 OK\"\n",
      "2024-09-01 17:52:13,796 - INFO - Token count for completion: 1331, Price: $0.01997\n",
      "2024-09-01 17:52:13,798 - ERROR - JSON format error: Expecting ',' delimiter: line 5 column 1 (char 117)\n",
      "2024-09-01 17:52:13,799 - INFO - JSON format error fixed.\n"
     ]
    }
   ],
   "source": [
    "responses_list_enhanced = scripts.process_prompts(prompts_enhance, client, batch_start, batch_stop)"
   ]
  },
  {
   "cell_type": "code",
   "execution_count": 16,
   "metadata": {},
   "outputs": [
    {
     "name": "stdout",
     "output_type": "stream",
     "text": [
      "<class 'pandas.core.frame.DataFrame'>\n",
      "RangeIndex: 32 entries, 0 to 31\n",
      "Data columns (total 4 columns):\n",
      " #   Column               Non-Null Count  Dtype \n",
      "---  ------               --------------  ----- \n",
      " 0   design_id            32 non-null     int64 \n",
      " 1   new_list_of_strings  32 non-null     object\n",
      " 2   design_en            32 non-null     object\n",
      " 3   list_of_strings      32 non-null     object\n",
      "dtypes: int64(1), object(3)\n",
      "memory usage: 1.1+ KB\n"
     ]
    }
   ],
   "source": [
    "df_responses_enhanced = pd.DataFrame(responses_list_enhanced, index=None)\n",
    "df_responses_enhanced[\"design_id\"] = df_responses_enhanced[\"design_id\"].astype(int)\n",
    "\n",
    "df_enhanced_merged = df_responses_enhanced.merge(df_designs_filtered[['id', 'design_en', 'list_of_strings']], \n",
    "                                       left_on='design_id', right_on='id', how='left'\n",
    "                                       ).drop(columns='id')\n",
    "\n",
    "df_enhanced_merged.info()"
   ]
  },
  {
   "cell_type": "markdown",
   "metadata": {},
   "source": [
    "### Step 0.1 Validate and Classify enhanced entities"
   ]
  },
  {
   "cell_type": "code",
   "execution_count": 17,
   "metadata": {},
   "outputs": [
    {
     "name": "stdout",
     "output_type": "stream",
     "text": [
      "Token count for prompt 0: 4334, Price: $0.02167\n",
      "Total token count: 4334\n",
      "Total input price: $0.02167\n"
     ]
    },
    {
     "data": {
      "text/plain": [
       "(4334, 0.021670000000000002)"
      ]
     },
     "execution_count": 17,
     "metadata": {},
     "output_type": "execute_result"
    }
   ],
   "source": [
    "prompts_validate_enhanced = prompts.validate_overall_objects_in_designs(df_enhanced_merged, batch_size)\n",
    "scripts.calculate_total_tokens_and_price(\n",
    "    prompts_validate_enhanced, batch_start, batch_stop, \n",
    ")"
   ]
  },
  {
   "cell_type": "code",
   "execution_count": 18,
   "metadata": {},
   "outputs": [
    {
     "name": "stderr",
     "output_type": "stream",
     "text": [
      "2024-09-01 17:53:16,853 - INFO - HTTP Request: POST https://api.openai.com/v1/chat/completions \"HTTP/1.1 200 OK\"\n",
      "2024-09-01 17:53:32,083 - INFO - Token count for completion: 1734, Price: $0.02601\n"
     ]
    }
   ],
   "source": [
    "responses_list_validated_enh = scripts.process_prompts(prompts_validate_enhanced, client, batch_start, batch_stop)"
   ]
  },
  {
   "cell_type": "code",
   "execution_count": 19,
   "metadata": {},
   "outputs": [
    {
     "data": {
      "text/html": [
       "<div>\n",
       "<style scoped>\n",
       "    .dataframe tbody tr th:only-of-type {\n",
       "        vertical-align: middle;\n",
       "    }\n",
       "\n",
       "    .dataframe tbody tr th {\n",
       "        vertical-align: top;\n",
       "    }\n",
       "\n",
       "    .dataframe thead th {\n",
       "        text-align: right;\n",
       "    }\n",
       "</style>\n",
       "<table border=\"1\" class=\"dataframe\">\n",
       "  <thead>\n",
       "    <tr style=\"text-align: right;\">\n",
       "      <th></th>\n",
       "      <th>design_id</th>\n",
       "      <th>relevance</th>\n",
       "      <th>correctness</th>\n",
       "      <th>comment_enh</th>\n",
       "      <th>new_list_of_strings</th>\n",
       "      <th>design_en</th>\n",
       "      <th>list_of_strings</th>\n",
       "    </tr>\n",
       "  </thead>\n",
       "  <tbody>\n",
       "    <tr>\n",
       "      <th>0</th>\n",
       "      <td>4289</td>\n",
       "      <td>1</td>\n",
       "      <td>1</td>\n",
       "      <td>The enhanced list includes all significant objects mentioned in the design description and correctly classifies them.</td>\n",
       "      <td>[[grape, PLANT], [vine, PLANT], [branch, OBJECT]]</td>\n",
       "      <td>Bunch of grape on vine branch.</td>\n",
       "      <td>[(grape, PLANT), (vine, PLANT), (branch, OBJECT)]</td>\n",
       "    </tr>\n",
       "    <tr>\n",
       "      <th>1</th>\n",
       "      <td>4290</td>\n",
       "      <td>0</td>\n",
       "      <td>0</td>\n",
       "      <td>The enhanced list is missing 'head', which is a significant part of the design description.</td>\n",
       "      <td>[[Dionysus, PERSON]]</td>\n",
       "      <td>Frontal head of Dionysus</td>\n",
       "      <td>[(head, OBJECT), (Dionysus, PERSON)]</td>\n",
       "    </tr>\n",
       "  </tbody>\n",
       "</table>\n",
       "</div>"
      ],
      "text/plain": [
       "   design_id  relevance  correctness                                                                                                            comment_enh                                new_list_of_strings                       design_en                                    list_of_strings\n",
       "0       4289          1            1  The enhanced list includes all significant objects mentioned in the design description and correctly classifies them.  [[grape, PLANT], [vine, PLANT], [branch, OBJECT]]  Bunch of grape on vine branch.  [(grape, PLANT), (vine, PLANT), (branch, OBJECT)]\n",
       "1       4290          0            0                            The enhanced list is missing 'head', which is a significant part of the design description.                               [[Dionysus, PERSON]]        Frontal head of Dionysus               [(head, OBJECT), (Dionysus, PERSON)]"
      ]
     },
     "execution_count": 19,
     "metadata": {},
     "output_type": "execute_result"
    }
   ],
   "source": [
    "df_responses_val_enhanced = pd.DataFrame(responses_list_validated_enh, index=None)\n",
    "df_enhanced_validated = df_responses_val_enhanced.merge(df_enhanced_merged, on=['design_id'], how='left')\n",
    "\n",
    "df_enhanced_validated.head(2)"
   ]
  },
  {
   "cell_type": "code",
   "execution_count": 20,
   "metadata": {},
   "outputs": [],
   "source": [
    "\n",
    "columns = ['design_id', 'design_en', 'new_list_of_strings', \n",
    "           'completeness', 'relevance', 'correctness', 'comment_enh', 'list_of_strings']\n",
    "scripts.update_json_with_merged_df(df_enhanced_validated, columns, json_dir, enhanced_json_filename)"
   ]
  },
  {
   "cell_type": "markdown",
   "metadata": {},
   "source": [
    "### Step 1: Identify Subject-Object Pairs\n",
    "- **Input:** Design description and categorized entities.\n",
    "- **Output:** List of subject-object pairs."
   ]
  },
  {
   "cell_type": "code",
   "execution_count": 21,
   "metadata": {},
   "outputs": [
    {
     "name": "stdout",
     "output_type": "stream",
     "text": [
      "<class 'pandas.core.frame.DataFrame'>\n",
      "RangeIndex: 3282 entries, 0 to 3281\n",
      "Data columns (total 8 columns):\n",
      " #   Column               Non-Null Count  Dtype  \n",
      "---  ------               --------------  -----  \n",
      " 0   design_id            3282 non-null   int64  \n",
      " 1   design_en            3282 non-null   object \n",
      " 2   new_list_of_strings  3282 non-null   object \n",
      " 3   completeness         64 non-null     float64\n",
      " 4   relevance            3282 non-null   int64  \n",
      " 5   correctness          3282 non-null   int64  \n",
      " 6   comment_enh          3282 non-null   object \n",
      " 7   list_of_strings      3282 non-null   object \n",
      "dtypes: float64(1), int64(3), object(4)\n",
      "memory usage: 205.2+ KB\n"
     ]
    }
   ],
   "source": [
    "df_enhanced = pd.read_json(Path(json_dir) / enhanced_json_filename)\n",
    "df_enhanced.info()\n"
   ]
  },
  {
   "cell_type": "code",
   "execution_count": 22,
   "metadata": {},
   "outputs": [
    {
     "name": "stdout",
     "output_type": "stream",
     "text": [
      "completeness\n",
      "1.0    45\n",
      "0.0    19\n",
      "Name: count, dtype: int64 relevance\n",
      "1    3249\n",
      "0      33\n",
      "Name: count, dtype: int64 correctness\n",
      " 1    3230\n",
      " 0      48\n",
      "-1       4\n",
      "Name: count, dtype: int64\n"
     ]
    }
   ],
   "source": [
    "# show all unique values for completeness, relevance, correctness\n",
    "print(df_enhanced['completeness'].value_counts(),\n",
    "df_enhanced['relevance'].value_counts(),\n",
    "df_enhanced['correctness'].value_counts())"
   ]
  },
  {
   "cell_type": "code",
   "execution_count": 23,
   "metadata": {},
   "outputs": [
    {
     "name": "stdout",
     "output_type": "stream",
     "text": [
      "<class 'pandas.core.frame.DataFrame'>\n",
      "Index: 119 entries, 64 to 3281\n",
      "Data columns (total 8 columns):\n",
      " #   Column               Non-Null Count  Dtype  \n",
      "---  ------               --------------  -----  \n",
      " 0   design_id            119 non-null    int64  \n",
      " 1   design_en            119 non-null    object \n",
      " 2   new_list_of_strings  119 non-null    object \n",
      " 3   completeness         0 non-null      float64\n",
      " 4   relevance            119 non-null    int64  \n",
      " 5   correctness          119 non-null    int64  \n",
      " 6   comment_enh          119 non-null    object \n",
      " 7   list_of_strings      119 non-null    object \n",
      "dtypes: float64(1), int64(3), object(4)\n",
      "memory usage: 8.4+ KB\n"
     ]
    }
   ],
   "source": [
    "df_enhanced_filtered = scripts.filter_enhanced_designs(df_enhanced, json_dir, sop_json_filename)\n",
    "df_enhanced_filtered.info()"
   ]
  },
  {
   "cell_type": "code",
   "execution_count": 24,
   "metadata": {},
   "outputs": [
    {
     "name": "stdout",
     "output_type": "stream",
     "text": [
      "batch_start: 0, batch_stop: 1\n",
      "batch_size: 32\n"
     ]
    }
   ],
   "source": [
    "print(f\"batch_start: {batch_start}, batch_stop: {batch_stop}\")\n",
    "print(f\"batch_size: {batch_size}\")\n",
    "batch_size = 16\n",
    "batch_start = 0\n",
    "batch_stop = 2"
   ]
  },
  {
   "cell_type": "code",
   "execution_count": 25,
   "metadata": {},
   "outputs": [
    {
     "name": "stdout",
     "output_type": "stream",
     "text": [
      "Token count for prompt 0: 2244, Price: $0.01122\n",
      "Token count for prompt 1: 1953, Price: $0.00977\n",
      "Total token count: 4197\n",
      "Total input price: $0.02099\n"
     ]
    },
    {
     "data": {
      "text/plain": [
       "(4197, 0.020985)"
      ]
     },
     "execution_count": 25,
     "metadata": {},
     "output_type": "execute_result"
    }
   ],
   "source": [
    "#TODO where is id 67 ????\n",
    "prompts_sop = prompts.find_subject_object_pairs_prompts(df_enhanced_filtered, batch_size=batch_size)\n",
    "scripts.calculate_total_tokens_and_price(\n",
    "    prompts_sop, batch_start, batch_stop, \n",
    ")"
   ]
  },
  {
   "cell_type": "code",
   "execution_count": 26,
   "metadata": {},
   "outputs": [
    {
     "name": "stderr",
     "output_type": "stream",
     "text": [
      "2024-09-01 17:55:43,637 - INFO - HTTP Request: POST https://api.openai.com/v1/chat/completions \"HTTP/1.1 200 OK\"\n",
      "2024-09-01 17:55:55,917 - INFO - Token count for completion: 1289, Price: $0.01934\n",
      "2024-09-01 17:55:56,372 - INFO - HTTP Request: POST https://api.openai.com/v1/chat/completions \"HTTP/1.1 200 OK\"\n",
      "2024-09-01 17:56:03,557 - INFO - Token count for completion: 835, Price: $0.01252\n"
     ]
    }
   ],
   "source": [
    "responses_list_sop = scripts.process_prompts(prompts_sop, client, batch_start, batch_stop)\n"
   ]
  },
  {
   "cell_type": "code",
   "execution_count": 28,
   "metadata": {},
   "outputs": [
    {
     "data": {
      "text/html": [
       "<div>\n",
       "<style scoped>\n",
       "    .dataframe tbody tr th:only-of-type {\n",
       "        vertical-align: middle;\n",
       "    }\n",
       "\n",
       "    .dataframe tbody tr th {\n",
       "        vertical-align: top;\n",
       "    }\n",
       "\n",
       "    .dataframe thead th {\n",
       "        text-align: right;\n",
       "    }\n",
       "</style>\n",
       "<table border=\"1\" class=\"dataframe\">\n",
       "  <thead>\n",
       "    <tr style=\"text-align: right;\">\n",
       "      <th></th>\n",
       "      <th>design_id</th>\n",
       "      <th>s_o_id</th>\n",
       "      <th>s</th>\n",
       "      <th>subject_class</th>\n",
       "      <th>o</th>\n",
       "      <th>object_class</th>\n",
       "      <th>design_en</th>\n",
       "      <th>new_list_of_strings</th>\n",
       "      <th>completeness</th>\n",
       "      <th>relevance</th>\n",
       "      <th>correctness</th>\n",
       "      <th>comment_enh</th>\n",
       "      <th>list_of_strings</th>\n",
       "    </tr>\n",
       "  </thead>\n",
       "  <tbody>\n",
       "    <tr>\n",
       "      <th>0</th>\n",
       "      <td>1</td>\n",
       "      <td>a</td>\n",
       "      <td>Alexander the Great</td>\n",
       "      <td>PERSON</td>\n",
       "      <td>horn</td>\n",
       "      <td>OBJECT</td>\n",
       "      <td>Diadem head of deified Alexander the Great with horn of Ammon, right. Border of dots.</td>\n",
       "      <td>[[Alexander the Great, PERSON], [horn, OBJECT], [Diadem, OBJECT]]</td>\n",
       "      <td>NaN</td>\n",
       "      <td>1</td>\n",
       "      <td>1</td>\n",
       "      <td>The enhanced list includes all significant objects mentioned in the design description and has improved relevance by excluding redundant 'head'.</td>\n",
       "      <td>[[Diadem, OBJECT], [head, OBJECT], [Alexander the Great, PERSON], [horn, OBJECT]]</td>\n",
       "    </tr>\n",
       "    <tr>\n",
       "      <th>1</th>\n",
       "      <td>1</td>\n",
       "      <td>b</td>\n",
       "      <td>Alexander the Great</td>\n",
       "      <td>PERSON</td>\n",
       "      <td>Diadem</td>\n",
       "      <td>OBJECT</td>\n",
       "      <td>Diadem head of deified Alexander the Great with horn of Ammon, right. Border of dots.</td>\n",
       "      <td>[[Alexander the Great, PERSON], [horn, OBJECT], [Diadem, OBJECT]]</td>\n",
       "      <td>NaN</td>\n",
       "      <td>1</td>\n",
       "      <td>1</td>\n",
       "      <td>The enhanced list includes all significant objects mentioned in the design description and has improved relevance by excluding redundant 'head'.</td>\n",
       "      <td>[[Diadem, OBJECT], [head, OBJECT], [Alexander the Great, PERSON], [horn, OBJECT]]</td>\n",
       "    </tr>\n",
       "    <tr>\n",
       "      <th>2</th>\n",
       "      <td>6</td>\n",
       "      <td>a</td>\n",
       "      <td>NULL</td>\n",
       "      <td>NULL</td>\n",
       "      <td>NULL</td>\n",
       "      <td>NULL</td>\n",
       "      <td>Altar, lighted and garland.</td>\n",
       "      <td>[[Altar, OBJECT], [garland, OBJECT]]</td>\n",
       "      <td>NaN</td>\n",
       "      <td>1</td>\n",
       "      <td>1</td>\n",
       "      <td>The enhanced list includes all significant objects mentioned in the design description.</td>\n",
       "      <td>[[Altar, OBJECT], [garland, OBJECT]]</td>\n",
       "    </tr>\n",
       "    <tr>\n",
       "      <th>3</th>\n",
       "      <td>8</td>\n",
       "      <td>a</td>\n",
       "      <td>amphora</td>\n",
       "      <td>OBJECT</td>\n",
       "      <td>stand</td>\n",
       "      <td>OBJECT</td>\n",
       "      <td>Prize amphora on ornamental stand; within linear square and incuse square.</td>\n",
       "      <td>[[amphora, OBJECT], [stand, OBJECT]]</td>\n",
       "      <td>NaN</td>\n",
       "      <td>1</td>\n",
       "      <td>1</td>\n",
       "      <td>The enhanced list includes the main objects of the design.</td>\n",
       "      <td>[[amphora, OBJECT]]</td>\n",
       "    </tr>\n",
       "    <tr>\n",
       "      <th>4</th>\n",
       "      <td>9</td>\n",
       "      <td>a</td>\n",
       "      <td>Amphora</td>\n",
       "      <td>OBJECT</td>\n",
       "      <td>corn</td>\n",
       "      <td>PLANT</td>\n",
       "      <td>Amphora with ribbed surface and crooked handleholding two corn and poppy.</td>\n",
       "      <td>[[Amphora, OBJECT], [corn, PLANT], [poppy, PLANT], [handle, OBJECT]]</td>\n",
       "      <td>NaN</td>\n",
       "      <td>1</td>\n",
       "      <td>1</td>\n",
       "      <td>The enhanced list includes all significant objects mentioned in the design description and has improved relevance by including 'handle'.</td>\n",
       "      <td>[[Amphora, OBJECT], [corn, PLANT], [poppy, PLANT]]</td>\n",
       "    </tr>\n",
       "  </tbody>\n",
       "</table>\n",
       "</div>"
      ],
      "text/plain": [
       "   design_id s_o_id                    s subject_class       o object_class                                                                              design_en                                                   new_list_of_strings  completeness  relevance  correctness                                                                                                                                       comment_enh                                                                    list_of_strings\n",
       "0          1      a  Alexander the Great        PERSON    horn       OBJECT  Diadem head of deified Alexander the Great with horn of Ammon, right. Border of dots.     [[Alexander the Great, PERSON], [horn, OBJECT], [Diadem, OBJECT]]           NaN          1            1  The enhanced list includes all significant objects mentioned in the design description and has improved relevance by excluding redundant 'head'.  [[Diadem, OBJECT], [head, OBJECT], [Alexander the Great, PERSON], [horn, OBJECT]]\n",
       "1          1      b  Alexander the Great        PERSON  Diadem       OBJECT  Diadem head of deified Alexander the Great with horn of Ammon, right. Border of dots.     [[Alexander the Great, PERSON], [horn, OBJECT], [Diadem, OBJECT]]           NaN          1            1  The enhanced list includes all significant objects mentioned in the design description and has improved relevance by excluding redundant 'head'.  [[Diadem, OBJECT], [head, OBJECT], [Alexander the Great, PERSON], [horn, OBJECT]]\n",
       "2          6      a                 NULL          NULL    NULL         NULL                                                            Altar, lighted and garland.                                  [[Altar, OBJECT], [garland, OBJECT]]           NaN          1            1                                                           The enhanced list includes all significant objects mentioned in the design description.                                               [[Altar, OBJECT], [garland, OBJECT]]\n",
       "3          8      a              amphora        OBJECT   stand       OBJECT             Prize amphora on ornamental stand; within linear square and incuse square.                                  [[amphora, OBJECT], [stand, OBJECT]]           NaN          1            1                                                                                        The enhanced list includes the main objects of the design.                                                                [[amphora, OBJECT]]\n",
       "4          9      a              Amphora        OBJECT    corn        PLANT              Amphora with ribbed surface and crooked handleholding two corn and poppy.  [[Amphora, OBJECT], [corn, PLANT], [poppy, PLANT], [handle, OBJECT]]           NaN          1            1          The enhanced list includes all significant objects mentioned in the design description and has improved relevance by including 'handle'.                                 [[Amphora, OBJECT], [corn, PLANT], [poppy, PLANT]]"
      ]
     },
     "execution_count": 28,
     "metadata": {},
     "output_type": "execute_result"
    }
   ],
   "source": [
    "df_responses_sop = pd.DataFrame(responses_list_sop, index=None)\n",
    "df_responses_sop[\"design_id\"] = df_responses_sop[\"design_id\"].astype(int)\n",
    "# print(df_responses_sop.info())\n",
    "# print(df_designs_filtered.info())\n",
    "df_sop_merged = df_responses_sop.merge(df_enhanced_filtered, on=['design_id'], how='left')\n",
    "# merged_df = merged_df.drop(columns='id')\n",
    "df_sop_merged.head()"
   ]
  },
  {
   "cell_type": "code",
   "execution_count": 29,
   "metadata": {},
   "outputs": [
    {
     "name": "stdout",
     "output_type": "stream",
     "text": [
      "<class 'pandas.core.frame.DataFrame'>\n",
      "RangeIndex: 40 entries, 0 to 39\n",
      "Data columns (total 13 columns):\n",
      " #   Column               Non-Null Count  Dtype  \n",
      "---  ------               --------------  -----  \n",
      " 0   design_id            40 non-null     int64  \n",
      " 1   s_o_id               40 non-null     object \n",
      " 2   s                    40 non-null     object \n",
      " 3   subject_class        40 non-null     object \n",
      " 4   o                    40 non-null     object \n",
      " 5   object_class         40 non-null     object \n",
      " 6   design_en            40 non-null     object \n",
      " 7   new_list_of_strings  40 non-null     object \n",
      " 8   completeness         0 non-null      float64\n",
      " 9   relevance            40 non-null     int64  \n",
      " 10  correctness          40 non-null     int64  \n",
      " 11  comment_enh          40 non-null     object \n",
      " 12  list_of_strings      40 non-null     object \n",
      "dtypes: float64(1), int64(3), object(9)\n",
      "memory usage: 4.2+ KB\n"
     ]
    }
   ],
   "source": [
    "df_sop_merged.info()"
   ]
  },
  {
   "cell_type": "markdown",
   "metadata": {},
   "source": [
    "### Step 1.1 Validate and Classify Object Subject"
   ]
  },
  {
   "cell_type": "code",
   "execution_count": 30,
   "metadata": {},
   "outputs": [
    {
     "name": "stdout",
     "output_type": "stream",
     "text": [
      "40\n",
      "2\n",
      "Token count for prompt 0: 2966, Price: $0.01483\n",
      "Token count for prompt 1: 1279, Price: $0.00639\n",
      "Total token count: 4245\n",
      "Total input price: $0.02122\n"
     ]
    },
    {
     "data": {
      "text/plain": [
       "(4245, 0.021224999999999997)"
      ]
     },
     "execution_count": 30,
     "metadata": {},
     "output_type": "execute_result"
    }
   ],
   "source": [
    "batch_size = 32\n",
    "length_sop_merged = len(df_sop_merged)\n",
    "print(length_sop_merged)\n",
    "num_batches = (length_sop_merged + batch_size - 1) // batch_size\n",
    "\n",
    "print(num_batches)\n",
    "batch_stop = num_batches\n",
    "\n",
    "prompts_validate_sop = prompts.validate_subject_object_pairs(df_sop_merged, batch_size)\n",
    "scripts.calculate_total_tokens_and_price(\n",
    "    prompts_validate_sop, batch_start, batch_stop, \n",
    ")"
   ]
  },
  {
   "cell_type": "code",
   "execution_count": 31,
   "metadata": {},
   "outputs": [
    {
     "name": "stderr",
     "output_type": "stream",
     "text": [
      "2024-09-01 17:57:03,210 - INFO - HTTP Request: POST https://api.openai.com/v1/chat/completions \"HTTP/1.1 200 OK\"\n",
      "2024-09-01 17:57:17,080 - INFO - Token count for completion: 1465, Price: $0.02197\n",
      "2024-09-01 17:57:17,439 - INFO - HTTP Request: POST https://api.openai.com/v1/chat/completions \"HTTP/1.1 200 OK\"\n",
      "2024-09-01 17:57:20,689 - INFO - Token count for completion: 366, Price: $0.00549\n"
     ]
    }
   ],
   "source": [
    "responses_list_validated_sop = scripts.process_prompts(prompts_validate_sop, client, batch_start, batch_stop)"
   ]
  },
  {
   "cell_type": "code",
   "execution_count": 32,
   "metadata": {},
   "outputs": [
    {
     "data": {
      "text/html": [
       "<div>\n",
       "<style scoped>\n",
       "    .dataframe tbody tr th:only-of-type {\n",
       "        vertical-align: middle;\n",
       "    }\n",
       "\n",
       "    .dataframe tbody tr th {\n",
       "        vertical-align: top;\n",
       "    }\n",
       "\n",
       "    .dataframe thead th {\n",
       "        text-align: right;\n",
       "    }\n",
       "</style>\n",
       "<table border=\"1\" class=\"dataframe\">\n",
       "  <thead>\n",
       "    <tr style=\"text-align: right;\">\n",
       "      <th></th>\n",
       "      <th>design_id</th>\n",
       "      <th>s_o_id</th>\n",
       "      <th>validity_sop</th>\n",
       "      <th>comment_sop</th>\n",
       "      <th>s</th>\n",
       "      <th>subject_class</th>\n",
       "      <th>o</th>\n",
       "      <th>object_class</th>\n",
       "      <th>design_en</th>\n",
       "      <th>new_list_of_strings</th>\n",
       "      <th>completeness</th>\n",
       "      <th>relevance</th>\n",
       "      <th>correctness</th>\n",
       "      <th>comment_enh</th>\n",
       "      <th>list_of_strings</th>\n",
       "    </tr>\n",
       "  </thead>\n",
       "  <tbody>\n",
       "    <tr>\n",
       "      <th>0</th>\n",
       "      <td>1</td>\n",
       "      <td>a</td>\n",
       "      <td>1</td>\n",
       "      <td>Correct and meaningful pair.</td>\n",
       "      <td>Alexander the Great</td>\n",
       "      <td>PERSON</td>\n",
       "      <td>horn</td>\n",
       "      <td>OBJECT</td>\n",
       "      <td>Diadem head of deified Alexander the Great with horn of Ammon, right. Border of dots.</td>\n",
       "      <td>[[Alexander the Great, PERSON], [horn, OBJECT], [Diadem, OBJECT]]</td>\n",
       "      <td>NaN</td>\n",
       "      <td>1</td>\n",
       "      <td>1</td>\n",
       "      <td>The enhanced list includes all significant objects mentioned in the design description and has improved relevance by excluding redundant 'head'.</td>\n",
       "      <td>[[Diadem, OBJECT], [head, OBJECT], [Alexander the Great, PERSON], [horn, OBJECT]]</td>\n",
       "    </tr>\n",
       "    <tr>\n",
       "      <th>1</th>\n",
       "      <td>1</td>\n",
       "      <td>b</td>\n",
       "      <td>1</td>\n",
       "      <td>Correct and meaningful pair.</td>\n",
       "      <td>Alexander the Great</td>\n",
       "      <td>PERSON</td>\n",
       "      <td>Diadem</td>\n",
       "      <td>OBJECT</td>\n",
       "      <td>Diadem head of deified Alexander the Great with horn of Ammon, right. Border of dots.</td>\n",
       "      <td>[[Alexander the Great, PERSON], [horn, OBJECT], [Diadem, OBJECT]]</td>\n",
       "      <td>NaN</td>\n",
       "      <td>1</td>\n",
       "      <td>1</td>\n",
       "      <td>The enhanced list includes all significant objects mentioned in the design description and has improved relevance by excluding redundant 'head'.</td>\n",
       "      <td>[[Diadem, OBJECT], [head, OBJECT], [Alexander the Great, PERSON], [horn, OBJECT]]</td>\n",
       "    </tr>\n",
       "  </tbody>\n",
       "</table>\n",
       "</div>"
      ],
      "text/plain": [
       "   design_id s_o_id  validity_sop                   comment_sop                    s subject_class       o object_class                                                                              design_en                                                new_list_of_strings  completeness  relevance  correctness                                                                                                                                       comment_enh                                                                    list_of_strings\n",
       "0          1      a             1  Correct and meaningful pair.  Alexander the Great        PERSON    horn       OBJECT  Diadem head of deified Alexander the Great with horn of Ammon, right. Border of dots.  [[Alexander the Great, PERSON], [horn, OBJECT], [Diadem, OBJECT]]           NaN          1            1  The enhanced list includes all significant objects mentioned in the design description and has improved relevance by excluding redundant 'head'.  [[Diadem, OBJECT], [head, OBJECT], [Alexander the Great, PERSON], [horn, OBJECT]]\n",
       "1          1      b             1  Correct and meaningful pair.  Alexander the Great        PERSON  Diadem       OBJECT  Diadem head of deified Alexander the Great with horn of Ammon, right. Border of dots.  [[Alexander the Great, PERSON], [horn, OBJECT], [Diadem, OBJECT]]           NaN          1            1  The enhanced list includes all significant objects mentioned in the design description and has improved relevance by excluding redundant 'head'.  [[Diadem, OBJECT], [head, OBJECT], [Alexander the Great, PERSON], [horn, OBJECT]]"
      ]
     },
     "execution_count": 32,
     "metadata": {},
     "output_type": "execute_result"
    }
   ],
   "source": [
    "df_responses_val_sop = pd.DataFrame(responses_list_validated_sop, index=None)\n",
    "df_sop_validated = df_responses_val_sop.merge(df_sop_merged, on=['design_id', 's_o_id'], how='left')\n",
    "\n",
    "df_sop_validated.head(2)"
   ]
  },
  {
   "cell_type": "code",
   "execution_count": 33,
   "metadata": {},
   "outputs": [],
   "source": [
    "columns = ['design_id', 's_o_id', 's', 'subject_class', 'o', 'object_class', \n",
    "           'validity_sop', 'comment_sop', 'design_en', 'new_list_of_strings', \n",
    "           'completeness', 'relevance', 'correctness', 'comment_enh', 'list_of_strings'\n",
    "           ]\n",
    "scripts.update_json_with_merged_df(df_sop_validated, columns, json_dir, sop_json_filename)"
   ]
  },
  {
   "cell_type": "markdown",
   "metadata": {},
   "source": [
    "### Step 2: Combine Subject-Predicate-Object\n",
    "- **Input:** Design description, subject-object pairs, and possible predicates.\n",
    "- **Output:** List of subject-predicate-object triples."
   ]
  },
  {
   "cell_type": "code",
   "execution_count": 34,
   "metadata": {},
   "outputs": [
    {
     "name": "stdout",
     "output_type": "stream",
     "text": [
      "<class 'pandas.core.frame.DataFrame'>\n",
      "RangeIndex: 8901 entries, 0 to 8900\n",
      "Data columns (total 15 columns):\n",
      " #   Column               Non-Null Count  Dtype  \n",
      "---  ------               --------------  -----  \n",
      " 0   design_id            8901 non-null   int64  \n",
      " 1   s_o_id               8901 non-null   object \n",
      " 2   s                    8901 non-null   object \n",
      " 3   subject_class        8901 non-null   object \n",
      " 4   o                    8901 non-null   object \n",
      " 5   object_class         8901 non-null   object \n",
      " 6   validity_sop         8901 non-null   int64  \n",
      " 7   comment_sop          8901 non-null   object \n",
      " 8   design_en            8901 non-null   object \n",
      " 9   new_list_of_strings  8901 non-null   object \n",
      " 10  completeness         157 non-null    float64\n",
      " 11  relevance            8901 non-null   int64  \n",
      " 12  correctness          8901 non-null   int64  \n",
      " 13  comment_enh          8901 non-null   object \n",
      " 14  list_of_strings      8901 non-null   object \n",
      "dtypes: float64(1), int64(4), object(10)\n",
      "memory usage: 1.0+ MB\n"
     ]
    }
   ],
   "source": [
    "df_sop = pd.read_json(Path(json_dir) / sop_json_filename)\n",
    "df_sop.info()"
   ]
  },
  {
   "cell_type": "code",
   "execution_count": 35,
   "metadata": {},
   "outputs": [
    {
     "data": {
      "text/plain": [
       "validity_sop\n",
       " 1    7752\n",
       " 0     677\n",
       "-1     472\n",
       "Name: count, dtype: int64"
      ]
     },
     "execution_count": 35,
     "metadata": {},
     "output_type": "execute_result"
    }
   ],
   "source": [
    "# count all entries in df_sop, for which validity is one value for each different value\n",
    "df_sop['validity_sop'].value_counts()"
   ]
  },
  {
   "cell_type": "code",
   "execution_count": 36,
   "metadata": {},
   "outputs": [
    {
     "name": "stdout",
     "output_type": "stream",
     "text": [
      "<class 'pandas.core.frame.DataFrame'>\n",
      "Index: 478 entries, 10 to 8900\n",
      "Data columns (total 15 columns):\n",
      " #   Column               Non-Null Count  Dtype  \n",
      "---  ------               --------------  -----  \n",
      " 0   design_id            478 non-null    int64  \n",
      " 1   s_o_id               478 non-null    object \n",
      " 2   s                    478 non-null    object \n",
      " 3   subject_class        478 non-null    object \n",
      " 4   o                    478 non-null    object \n",
      " 5   object_class         478 non-null    object \n",
      " 6   validity_sop         478 non-null    int64  \n",
      " 7   comment_sop          478 non-null    object \n",
      " 8   design_en            478 non-null    object \n",
      " 9   new_list_of_strings  478 non-null    object \n",
      " 10  completeness         10 non-null     float64\n",
      " 11  relevance            478 non-null    int64  \n",
      " 12  correctness          478 non-null    int64  \n",
      " 13  comment_enh          478 non-null    object \n",
      " 14  list_of_strings      478 non-null    object \n",
      "dtypes: float64(1), int64(4), object(10)\n",
      "memory usage: 59.8+ KB\n"
     ]
    }
   ],
   "source": [
    "df_sop_filtered = scripts.filter_sop_dataframe(df_sop, json_dir, pred_json_filename)\n",
    "df_sop_filtered.info()"
   ]
  },
  {
   "cell_type": "code",
   "execution_count": 37,
   "metadata": {},
   "outputs": [],
   "source": [
    "batch_size = 32\n",
    "batch_start = 0\n",
    "batch_stop = 2"
   ]
  },
  {
   "cell_type": "code",
   "execution_count": 38,
   "metadata": {},
   "outputs": [
    {
     "name": "stdout",
     "output_type": "stream",
     "text": [
      "Token count for prompt 0: 2400, Price: $0.01200\n",
      "Token count for prompt 1: 2393, Price: $0.01196\n",
      "Total token count: 4793\n",
      "Total input price: $0.02397\n"
     ]
    },
    {
     "data": {
      "text/plain": [
       "(4793, 0.023965)"
      ]
     },
     "execution_count": 38,
     "metadata": {},
     "output_type": "execute_result"
    }
   ],
   "source": [
    "prompts_pred = prompts.find_predicates_prompts(df_sop_filtered, batch_size)\n",
    "scripts.calculate_total_tokens_and_price(\n",
    "    prompts_pred, batch_start, batch_stop, \n",
    ")"
   ]
  },
  {
   "cell_type": "code",
   "execution_count": 39,
   "metadata": {},
   "outputs": [
    {
     "name": "stderr",
     "output_type": "stream",
     "text": [
      "2024-09-01 17:58:28,406 - INFO - HTTP Request: POST https://api.openai.com/v1/chat/completions \"HTTP/1.1 200 OK\"\n",
      "2024-09-01 17:58:37,490 - INFO - Token count for completion: 912, Price: $0.01368\n",
      "2024-09-01 17:58:37,928 - INFO - HTTP Request: POST https://api.openai.com/v1/chat/completions \"HTTP/1.1 200 OK\"\n",
      "2024-09-01 17:58:50,285 - INFO - Token count for completion: 907, Price: $0.01361\n"
     ]
    }
   ],
   "source": [
    "responses_list_pred = scripts.process_prompts(prompts_pred, client, batch_start, batch_stop)"
   ]
  },
  {
   "cell_type": "code",
   "execution_count": 40,
   "metadata": {},
   "outputs": [
    {
     "data": {
      "text/html": [
       "<div>\n",
       "<style scoped>\n",
       "    .dataframe tbody tr th:only-of-type {\n",
       "        vertical-align: middle;\n",
       "    }\n",
       "\n",
       "    .dataframe tbody tr th {\n",
       "        vertical-align: top;\n",
       "    }\n",
       "\n",
       "    .dataframe thead th {\n",
       "        text-align: right;\n",
       "    }\n",
       "</style>\n",
       "<table border=\"1\" class=\"dataframe\">\n",
       "  <thead>\n",
       "    <tr style=\"text-align: right;\">\n",
       "      <th></th>\n",
       "      <th>design_id</th>\n",
       "      <th>s_o_id</th>\n",
       "      <th>s</th>\n",
       "      <th>subject_class</th>\n",
       "      <th>o</th>\n",
       "      <th>object_class</th>\n",
       "      <th>validity_sop</th>\n",
       "      <th>comment_sop</th>\n",
       "      <th>design_en</th>\n",
       "      <th>new_list_of_strings</th>\n",
       "      <th>completeness</th>\n",
       "      <th>relevance</th>\n",
       "      <th>correctness</th>\n",
       "      <th>comment_enh</th>\n",
       "      <th>list_of_strings</th>\n",
       "      <th>predicate</th>\n",
       "    </tr>\n",
       "  </thead>\n",
       "  <tbody>\n",
       "    <tr>\n",
       "      <th>0</th>\n",
       "      <td>1531</td>\n",
       "      <td>a</td>\n",
       "      <td>NULL</td>\n",
       "      <td>NULL</td>\n",
       "      <td>NULL</td>\n",
       "      <td>NULL</td>\n",
       "      <td>-1</td>\n",
       "      <td>Invalid pair as both subject and object are NULL.</td>\n",
       "      <td>Head of bearded Heracles, left. Border of dots.</td>\n",
       "      <td>[[Heracles, PERSON]]</td>\n",
       "      <td>0.0</td>\n",
       "      <td>1</td>\n",
       "      <td>1</td>\n",
       "      <td>The enhanced list is missing 'head' which is mentioned in the design description.</td>\n",
       "      <td>[[Head, OBJECT], [Heracles, PERSON]]</td>\n",
       "      <td>NULL</td>\n",
       "    </tr>\n",
       "    <tr>\n",
       "      <th>1</th>\n",
       "      <td>1532</td>\n",
       "      <td>a</td>\n",
       "      <td>NULL</td>\n",
       "      <td>NULL</td>\n",
       "      <td>NULL</td>\n",
       "      <td>NULL</td>\n",
       "      <td>-1</td>\n",
       "      <td>Invalid pair as both subject and object are NULL.</td>\n",
       "      <td>Bull standing right.</td>\n",
       "      <td>[[Bull, ANIMAL]]</td>\n",
       "      <td>1.0</td>\n",
       "      <td>1</td>\n",
       "      <td>1</td>\n",
       "      <td>The enhanced list includes the main object of the design.</td>\n",
       "      <td>[[Bull, ANIMAL]]</td>\n",
       "      <td>standing</td>\n",
       "    </tr>\n",
       "    <tr>\n",
       "      <th>2</th>\n",
       "      <td>1534</td>\n",
       "      <td>a</td>\n",
       "      <td>NULL</td>\n",
       "      <td>NULL</td>\n",
       "      <td>NULL</td>\n",
       "      <td>NULL</td>\n",
       "      <td>-1</td>\n",
       "      <td>Invalid pair as both subject and object are NULL.</td>\n",
       "      <td>Upright club. Border of dots.</td>\n",
       "      <td>[[club, OBJECT]]</td>\n",
       "      <td>1.0</td>\n",
       "      <td>1</td>\n",
       "      <td>1</td>\n",
       "      <td>The enhanced list includes the main object of the design.</td>\n",
       "      <td>[[club, OBJECT]]</td>\n",
       "      <td>NULL</td>\n",
       "    </tr>\n",
       "    <tr>\n",
       "      <th>3</th>\n",
       "      <td>1536</td>\n",
       "      <td>a</td>\n",
       "      <td>NULL</td>\n",
       "      <td>NULL</td>\n",
       "      <td>NULL</td>\n",
       "      <td>NULL</td>\n",
       "      <td>-1</td>\n",
       "      <td>Invalid pair as both subject and object are NULL.</td>\n",
       "      <td>Bull standing left. Ground line. Border of dots.</td>\n",
       "      <td>[[Bull, ANIMAL]]</td>\n",
       "      <td>0.0</td>\n",
       "      <td>1</td>\n",
       "      <td>1</td>\n",
       "      <td>The enhanced list is missing 'Ground line' and 'Border of dots' which are mentioned in the design description.</td>\n",
       "      <td>[[Bull, ANIMAL]]</td>\n",
       "      <td>standing</td>\n",
       "    </tr>\n",
       "    <tr>\n",
       "      <th>4</th>\n",
       "      <td>1540</td>\n",
       "      <td>a</td>\n",
       "      <td>NULL</td>\n",
       "      <td>NULL</td>\n",
       "      <td>NULL</td>\n",
       "      <td>NULL</td>\n",
       "      <td>-1</td>\n",
       "      <td>Invalid pair as both subject and object are NULL.</td>\n",
       "      <td>Draped bust of Agrippina I, left. Border of dots.</td>\n",
       "      <td>[[Agrippina I, PERSON]]</td>\n",
       "      <td>1.0</td>\n",
       "      <td>1</td>\n",
       "      <td>1</td>\n",
       "      <td>The enhanced list correctly identifies 'Agrippina I' as the main subject of the design.</td>\n",
       "      <td>[[Draped, OBJECT], [bust, OBJECT]]</td>\n",
       "      <td>NULL</td>\n",
       "    </tr>\n",
       "  </tbody>\n",
       "</table>\n",
       "</div>"
      ],
      "text/plain": [
       "   design_id s_o_id     s subject_class     o object_class  validity_sop                                        comment_sop                                          design_en      new_list_of_strings  completeness  relevance  correctness                                                                                                     comment_enh                       list_of_strings predicate\n",
       "0       1531      a  NULL          NULL  NULL         NULL            -1  Invalid pair as both subject and object are NULL.    Head of bearded Heracles, left. Border of dots.     [[Heracles, PERSON]]           0.0          1            1                               The enhanced list is missing 'head' which is mentioned in the design description.  [[Head, OBJECT], [Heracles, PERSON]]      NULL\n",
       "1       1532      a  NULL          NULL  NULL         NULL            -1  Invalid pair as both subject and object are NULL.                               Bull standing right.         [[Bull, ANIMAL]]           1.0          1            1                                                       The enhanced list includes the main object of the design.                      [[Bull, ANIMAL]]  standing\n",
       "2       1534      a  NULL          NULL  NULL         NULL            -1  Invalid pair as both subject and object are NULL.                      Upright club. Border of dots.         [[club, OBJECT]]           1.0          1            1                                                       The enhanced list includes the main object of the design.                      [[club, OBJECT]]      NULL\n",
       "3       1536      a  NULL          NULL  NULL         NULL            -1  Invalid pair as both subject and object are NULL.   Bull standing left. Ground line. Border of dots.         [[Bull, ANIMAL]]           0.0          1            1  The enhanced list is missing 'Ground line' and 'Border of dots' which are mentioned in the design description.                      [[Bull, ANIMAL]]  standing\n",
       "4       1540      a  NULL          NULL  NULL         NULL            -1  Invalid pair as both subject and object are NULL.  Draped bust of Agrippina I, left. Border of dots.  [[Agrippina I, PERSON]]           1.0          1            1                         The enhanced list correctly identifies 'Agrippina I' as the main subject of the design.    [[Draped, OBJECT], [bust, OBJECT]]      NULL"
      ]
     },
     "execution_count": 40,
     "metadata": {},
     "output_type": "execute_result"
    }
   ],
   "source": [
    "df_responses_pred = pd.DataFrame(responses_list_pred, index=None)\n",
    "df_pred_merged = df_sop_filtered.merge(df_responses_pred, \n",
    "                                                  on=['design_id','s_o_id'], how='left'\n",
    "                                                  )\n",
    "df_pred_merged.head(5)\n",
    "\n"
   ]
  },
  {
   "cell_type": "markdown",
   "metadata": {},
   "source": [
    "## Step 2.1: Validate and Classify Extractes Relations\n",
    "- **Input:** List of subject-predicate-object triples.\n",
    "- **Output:** Validated and classified relations, marked as \"added predicates\" or \"used predicates in design\".\n",
    "\n",
    "#### Notes\n",
    "- Avoid/Filter predicates which a in the text, and a valid relation, but not in the design description.\n",
    "- Example 28/27\n",
    "    - Antoninus Pius\twearing\tWreath"
   ]
  },
  {
   "cell_type": "code",
   "execution_count": 41,
   "metadata": {},
   "outputs": [
    {
     "name": "stdout",
     "output_type": "stream",
     "text": [
      "Token count for prompt 0: 2666, Price: $0.01333\n",
      "Token count for prompt 1: 2664, Price: $0.01332\n",
      "Total token count: 5330\n",
      "Total input price: $0.02665\n"
     ]
    },
    {
     "data": {
      "text/plain": [
       "(5330, 0.02665)"
      ]
     },
     "execution_count": 41,
     "metadata": {},
     "output_type": "execute_result"
    }
   ],
   "source": [
    "prompts_validate_pred = prompts.validate_spo_triples(df_pred_merged, batch_size)\n",
    "scripts.calculate_total_tokens_and_price(\n",
    "    prompts_validate_pred, batch_start, batch_stop, \n",
    ")"
   ]
  },
  {
   "cell_type": "code",
   "execution_count": 42,
   "metadata": {},
   "outputs": [
    {
     "name": "stderr",
     "output_type": "stream",
     "text": [
      "2024-09-01 18:02:27,356 - INFO - HTTP Request: POST https://api.openai.com/v1/chat/completions \"HTTP/1.1 200 OK\"\n",
      "2024-09-01 18:02:50,048 - INFO - Token count for completion: 1662, Price: $0.02493\n",
      "2024-09-01 18:02:50,697 - INFO - HTTP Request: POST https://api.openai.com/v1/chat/completions \"HTTP/1.1 200 OK\"\n",
      "2024-09-01 18:03:12,385 - INFO - Token count for completion: 1812, Price: $0.02718\n"
     ]
    }
   ],
   "source": [
    "responses_list_validated_pred = scripts.process_prompts(prompts_validate_pred, client, batch_start, batch_stop)"
   ]
  },
  {
   "cell_type": "code",
   "execution_count": 43,
   "metadata": {},
   "outputs": [
    {
     "name": "stdout",
     "output_type": "stream",
     "text": [
      "   design_id s_o_id  validity_pred                        comment_pred implicit_pred\n",
      "0       1531      a             -1      NULL is not a valid predicate.       showing\n",
      "1       1532      a              1  Correct and meaningful SPO triple.          NULL\n",
      "2       1534      a             -1      NULL is not a valid predicate.       showing\n",
      "3       1536      a              1  Correct and meaningful SPO triple.          NULL\n",
      "4       1540      a             -1      NULL is not a valid predicate.       showing\n"
     ]
    },
    {
     "data": {
      "text/html": [
       "<div>\n",
       "<style scoped>\n",
       "    .dataframe tbody tr th:only-of-type {\n",
       "        vertical-align: middle;\n",
       "    }\n",
       "\n",
       "    .dataframe tbody tr th {\n",
       "        vertical-align: top;\n",
       "    }\n",
       "\n",
       "    .dataframe thead th {\n",
       "        text-align: right;\n",
       "    }\n",
       "</style>\n",
       "<table border=\"1\" class=\"dataframe\">\n",
       "  <thead>\n",
       "    <tr style=\"text-align: right;\">\n",
       "      <th></th>\n",
       "      <th>design_id</th>\n",
       "      <th>s_o_id</th>\n",
       "      <th>validity_pred</th>\n",
       "      <th>comment_pred</th>\n",
       "      <th>implicit_pred</th>\n",
       "      <th>s</th>\n",
       "      <th>subject_class</th>\n",
       "      <th>o</th>\n",
       "      <th>object_class</th>\n",
       "      <th>validity_sop</th>\n",
       "      <th>comment_sop</th>\n",
       "      <th>design_en</th>\n",
       "      <th>new_list_of_strings</th>\n",
       "      <th>completeness</th>\n",
       "      <th>relevance</th>\n",
       "      <th>correctness</th>\n",
       "      <th>comment_enh</th>\n",
       "      <th>list_of_strings</th>\n",
       "      <th>predicate</th>\n",
       "    </tr>\n",
       "  </thead>\n",
       "  <tbody>\n",
       "    <tr>\n",
       "      <th>0</th>\n",
       "      <td>1531</td>\n",
       "      <td>a</td>\n",
       "      <td>-1</td>\n",
       "      <td>NULL is not a valid predicate.</td>\n",
       "      <td>showing</td>\n",
       "      <td>NULL</td>\n",
       "      <td>NULL</td>\n",
       "      <td>NULL</td>\n",
       "      <td>NULL</td>\n",
       "      <td>-1</td>\n",
       "      <td>Invalid pair as both subject and object are NULL.</td>\n",
       "      <td>Head of bearded Heracles, left. Border of dots.</td>\n",
       "      <td>[[Heracles, PERSON]]</td>\n",
       "      <td>0.0</td>\n",
       "      <td>1</td>\n",
       "      <td>1</td>\n",
       "      <td>The enhanced list is missing 'head' which is mentioned in the design description.</td>\n",
       "      <td>[[Head, OBJECT], [Heracles, PERSON]]</td>\n",
       "      <td>NULL</td>\n",
       "    </tr>\n",
       "    <tr>\n",
       "      <th>1</th>\n",
       "      <td>1532</td>\n",
       "      <td>a</td>\n",
       "      <td>1</td>\n",
       "      <td>Correct and meaningful SPO triple.</td>\n",
       "      <td>NULL</td>\n",
       "      <td>NULL</td>\n",
       "      <td>NULL</td>\n",
       "      <td>NULL</td>\n",
       "      <td>NULL</td>\n",
       "      <td>-1</td>\n",
       "      <td>Invalid pair as both subject and object are NULL.</td>\n",
       "      <td>Bull standing right.</td>\n",
       "      <td>[[Bull, ANIMAL]]</td>\n",
       "      <td>1.0</td>\n",
       "      <td>1</td>\n",
       "      <td>1</td>\n",
       "      <td>The enhanced list includes the main object of the design.</td>\n",
       "      <td>[[Bull, ANIMAL]]</td>\n",
       "      <td>standing</td>\n",
       "    </tr>\n",
       "  </tbody>\n",
       "</table>\n",
       "</div>"
      ],
      "text/plain": [
       "   design_id s_o_id  validity_pred                        comment_pred implicit_pred     s subject_class     o object_class  validity_sop                                        comment_sop                                        design_en   new_list_of_strings  completeness  relevance  correctness                                                                        comment_enh                       list_of_strings predicate\n",
       "0       1531      a             -1      NULL is not a valid predicate.       showing  NULL          NULL  NULL         NULL            -1  Invalid pair as both subject and object are NULL.  Head of bearded Heracles, left. Border of dots.  [[Heracles, PERSON]]           0.0          1            1  The enhanced list is missing 'head' which is mentioned in the design description.  [[Head, OBJECT], [Heracles, PERSON]]      NULL\n",
       "1       1532      a              1  Correct and meaningful SPO triple.          NULL  NULL          NULL  NULL         NULL            -1  Invalid pair as both subject and object are NULL.                             Bull standing right.      [[Bull, ANIMAL]]           1.0          1            1                          The enhanced list includes the main object of the design.                      [[Bull, ANIMAL]]  standing"
      ]
     },
     "execution_count": 43,
     "metadata": {},
     "output_type": "execute_result"
    }
   ],
   "source": [
    "df_responses_val_pred = pd.DataFrame(responses_list_validated_pred, index=None)\n",
    "print(df_responses_val_pred.head(5))\n",
    "df_pred_validated = df_responses_val_pred.merge(df_pred_merged, on=['design_id', 's_o_id'], how='left')\n",
    "\n",
    "df_pred_validated.head(2)"
   ]
  },
  {
   "cell_type": "code",
   "execution_count": 44,
   "metadata": {},
   "outputs": [],
   "source": [
    "columns = ['design_id', 's_o_id', 's', 'subject_class', 'predicate', 'o', 'object_class', \n",
    "           \"validity_pred\", \"comment_pred\", \"implicit_pred\", \n",
    "           'validity_sop', 'comment_sop', 'design_en', 'new_list_of_strings', \n",
    "           'completeness', 'relevance', 'correctness', 'comment_enh', 'list_of_strings'\n",
    "           ]\n",
    "\n",
    "scripts.update_json_with_merged_df(df_pred_validated, columns, json_dir, pred_json_filename)"
   ]
  },
  {
   "cell_type": "code",
   "execution_count": 46,
   "metadata": {},
   "outputs": [
    {
     "data": {
      "text/html": [
       "<div>\n",
       "<style scoped>\n",
       "    .dataframe tbody tr th:only-of-type {\n",
       "        vertical-align: middle;\n",
       "    }\n",
       "\n",
       "    .dataframe tbody tr th {\n",
       "        vertical-align: top;\n",
       "    }\n",
       "\n",
       "    .dataframe thead th {\n",
       "        text-align: right;\n",
       "    }\n",
       "</style>\n",
       "<table border=\"1\" class=\"dataframe\">\n",
       "  <thead>\n",
       "    <tr style=\"text-align: right;\">\n",
       "      <th></th>\n",
       "      <th>design_id</th>\n",
       "      <th>s_o_id</th>\n",
       "      <th>s</th>\n",
       "      <th>subject_class</th>\n",
       "      <th>predicate</th>\n",
       "      <th>o</th>\n",
       "      <th>object_class</th>\n",
       "      <th>validity_pred</th>\n",
       "      <th>comment_pred</th>\n",
       "      <th>implicit_pred</th>\n",
       "      <th>validity_sop</th>\n",
       "      <th>comment_sop</th>\n",
       "      <th>design_en</th>\n",
       "      <th>new_list_of_strings</th>\n",
       "      <th>relevance</th>\n",
       "      <th>correctness</th>\n",
       "      <th>comment_enh</th>\n",
       "      <th>list_of_strings</th>\n",
       "      <th>completeness</th>\n",
       "    </tr>\n",
       "  </thead>\n",
       "  <tbody>\n",
       "    <tr>\n",
       "      <th>0</th>\n",
       "      <td>1526</td>\n",
       "      <td>a</td>\n",
       "      <td>Apollo</td>\n",
       "      <td>PERSON</td>\n",
       "      <td>wearing</td>\n",
       "      <td>garment</td>\n",
       "      <td>OBJECT</td>\n",
       "      <td>1</td>\n",
       "      <td>Correct and meaningful SPO triple.</td>\n",
       "      <td>NULL</td>\n",
       "      <td>1</td>\n",
       "      <td>Correct and meaningful pair.</td>\n",
       "      <td>Apollo standing facing, head left,wearing long garment, holding lyre with left hand on a short column to his left.</td>\n",
       "      <td>[[Apollo, PERSON], [garment, OBJECT], [lyre, OBJECT], [column, OBJECT]]</td>\n",
       "      <td>1</td>\n",
       "      <td>1</td>\n",
       "      <td>The enhanced list includes all significant objects mentioned in the design description and has improved relevance by excluding redundant 'head' and 'hand'.</td>\n",
       "      <td>[[Apollo, PERSON], [head, OBJECT], [garment, OBJECT], [lyre, OBJECT], [hand, OBJECT], [column, OBJECT]]</td>\n",
       "      <td>1.0</td>\n",
       "    </tr>\n",
       "    <tr>\n",
       "      <th>1</th>\n",
       "      <td>1526</td>\n",
       "      <td>b</td>\n",
       "      <td>Apollo</td>\n",
       "      <td>PERSON</td>\n",
       "      <td>holding</td>\n",
       "      <td>lyre</td>\n",
       "      <td>OBJECT</td>\n",
       "      <td>1</td>\n",
       "      <td>Correct and meaningful SPO triple.</td>\n",
       "      <td>NULL</td>\n",
       "      <td>1</td>\n",
       "      <td>Correct and meaningful pair.</td>\n",
       "      <td>Apollo standing facing, head left,wearing long garment, holding lyre with left hand on a short column to his left.</td>\n",
       "      <td>[[Apollo, PERSON], [garment, OBJECT], [lyre, OBJECT], [column, OBJECT]]</td>\n",
       "      <td>1</td>\n",
       "      <td>1</td>\n",
       "      <td>The enhanced list includes all significant objects mentioned in the design description and has improved relevance by excluding redundant 'head' and 'hand'.</td>\n",
       "      <td>[[Apollo, PERSON], [head, OBJECT], [garment, OBJECT], [lyre, OBJECT], [hand, OBJECT], [column, OBJECT]]</td>\n",
       "      <td>1.0</td>\n",
       "    </tr>\n",
       "    <tr>\n",
       "      <th>2</th>\n",
       "      <td>1526</td>\n",
       "      <td>c</td>\n",
       "      <td>Apollo</td>\n",
       "      <td>PERSON</td>\n",
       "      <td>on</td>\n",
       "      <td>column</td>\n",
       "      <td>OBJECT</td>\n",
       "      <td>-1</td>\n",
       "      <td>Predicate 'on' is not plausible in this context.</td>\n",
       "      <td>standing_on</td>\n",
       "      <td>1</td>\n",
       "      <td>Correct and meaningful pair.</td>\n",
       "      <td>Apollo standing facing, head left,wearing long garment, holding lyre with left hand on a short column to his left.</td>\n",
       "      <td>[[Apollo, PERSON], [garment, OBJECT], [lyre, OBJECT], [column, OBJECT]]</td>\n",
       "      <td>1</td>\n",
       "      <td>1</td>\n",
       "      <td>The enhanced list includes all significant objects mentioned in the design description and has improved relevance by excluding redundant 'head' and 'hand'.</td>\n",
       "      <td>[[Apollo, PERSON], [head, OBJECT], [garment, OBJECT], [lyre, OBJECT], [hand, OBJECT], [column, OBJECT]]</td>\n",
       "      <td>1.0</td>\n",
       "    </tr>\n",
       "    <tr>\n",
       "      <th>3</th>\n",
       "      <td>1527</td>\n",
       "      <td>a</td>\n",
       "      <td>club</td>\n",
       "      <td>OBJECT</td>\n",
       "      <td>over</td>\n",
       "      <td>lion skin</td>\n",
       "      <td>OBJECT</td>\n",
       "      <td>1</td>\n",
       "      <td>Correct and meaningful SPO triple.</td>\n",
       "      <td>NULL</td>\n",
       "      <td>1</td>\n",
       "      <td>Correct and meaningful pair.</td>\n",
       "      <td>Upright club, lion skin to left over it.</td>\n",
       "      <td>[[club, OBJECT], [lion skin, OBJECT]]</td>\n",
       "      <td>1</td>\n",
       "      <td>1</td>\n",
       "      <td>The enhanced list includes the main objects of the design.</td>\n",
       "      <td>[[club, OBJECT], [lion skin, OBJECT]]</td>\n",
       "      <td>1.0</td>\n",
       "    </tr>\n",
       "    <tr>\n",
       "      <th>4</th>\n",
       "      <td>1528</td>\n",
       "      <td>a</td>\n",
       "      <td>Apollo</td>\n",
       "      <td>PERSON</td>\n",
       "      <td>wearing</td>\n",
       "      <td>chlamys</td>\n",
       "      <td>OBJECT</td>\n",
       "      <td>1</td>\n",
       "      <td>Correct and meaningful SPO triple.</td>\n",
       "      <td>NULL</td>\n",
       "      <td>1</td>\n",
       "      <td>Correct and meaningful pair.</td>\n",
       "      <td>Wreath bust of Apollo, left, wearing chlamys; in front, bow. Border of dots.</td>\n",
       "      <td>[[Wreath, OBJECT], [bust, OBJECT], [Apollo, PERSON], [chlamys, OBJECT], [bow, OBJECT]]</td>\n",
       "      <td>1</td>\n",
       "      <td>1</td>\n",
       "      <td>The enhanced list includes all significant objects mentioned in the design description.</td>\n",
       "      <td>[[Wreath, OBJECT], [bust, OBJECT], [Apollo, PERSON], [chlamys, OBJECT], [bow, OBJECT]]</td>\n",
       "      <td>1.0</td>\n",
       "    </tr>\n",
       "  </tbody>\n",
       "</table>\n",
       "</div>"
      ],
      "text/plain": [
       "   design_id s_o_id       s subject_class predicate          o object_class  validity_pred                                      comment_pred implicit_pred  validity_sop                   comment_sop                                                                                                           design_en                                                                     new_list_of_strings  relevance  correctness                                                                                                                                                  comment_enh                                                                                          list_of_strings  completeness\n",
       "0       1526      a  Apollo        PERSON   wearing    garment       OBJECT              1                Correct and meaningful SPO triple.          NULL             1  Correct and meaningful pair.  Apollo standing facing, head left,wearing long garment, holding lyre with left hand on a short column to his left.                 [[Apollo, PERSON], [garment, OBJECT], [lyre, OBJECT], [column, OBJECT]]          1            1  The enhanced list includes all significant objects mentioned in the design description and has improved relevance by excluding redundant 'head' and 'hand'.  [[Apollo, PERSON], [head, OBJECT], [garment, OBJECT], [lyre, OBJECT], [hand, OBJECT], [column, OBJECT]]           1.0\n",
       "1       1526      b  Apollo        PERSON   holding       lyre       OBJECT              1                Correct and meaningful SPO triple.          NULL             1  Correct and meaningful pair.  Apollo standing facing, head left,wearing long garment, holding lyre with left hand on a short column to his left.                 [[Apollo, PERSON], [garment, OBJECT], [lyre, OBJECT], [column, OBJECT]]          1            1  The enhanced list includes all significant objects mentioned in the design description and has improved relevance by excluding redundant 'head' and 'hand'.  [[Apollo, PERSON], [head, OBJECT], [garment, OBJECT], [lyre, OBJECT], [hand, OBJECT], [column, OBJECT]]           1.0\n",
       "2       1526      c  Apollo        PERSON        on     column       OBJECT             -1  Predicate 'on' is not plausible in this context.   standing_on             1  Correct and meaningful pair.  Apollo standing facing, head left,wearing long garment, holding lyre with left hand on a short column to his left.                 [[Apollo, PERSON], [garment, OBJECT], [lyre, OBJECT], [column, OBJECT]]          1            1  The enhanced list includes all significant objects mentioned in the design description and has improved relevance by excluding redundant 'head' and 'hand'.  [[Apollo, PERSON], [head, OBJECT], [garment, OBJECT], [lyre, OBJECT], [hand, OBJECT], [column, OBJECT]]           1.0\n",
       "3       1527      a    club        OBJECT      over  lion skin       OBJECT              1                Correct and meaningful SPO triple.          NULL             1  Correct and meaningful pair.                                                                            Upright club, lion skin to left over it.                                                   [[club, OBJECT], [lion skin, OBJECT]]          1            1                                                                                                   The enhanced list includes the main objects of the design.                                                                    [[club, OBJECT], [lion skin, OBJECT]]           1.0\n",
       "4       1528      a  Apollo        PERSON   wearing    chlamys       OBJECT              1                Correct and meaningful SPO triple.          NULL             1  Correct and meaningful pair.                                        Wreath bust of Apollo, left, wearing chlamys; in front, bow. Border of dots.  [[Wreath, OBJECT], [bust, OBJECT], [Apollo, PERSON], [chlamys, OBJECT], [bow, OBJECT]]          1            1                                                                      The enhanced list includes all significant objects mentioned in the design description.                   [[Wreath, OBJECT], [bust, OBJECT], [Apollo, PERSON], [chlamys, OBJECT], [bow, OBJECT]]           1.0"
      ]
     },
     "execution_count": 46,
     "metadata": {},
     "output_type": "execute_result"
    }
   ],
   "source": [
    "df_pred_validated = pd.read_json(Path(json_dir) / pred_json_filename)\n",
    "df_pred_validated.head()"
   ]
  }
 ],
 "metadata": {
  "kernelspec": {
   "display_name": "data_challenge_NLP",
   "language": "python",
   "name": "python3"
  },
  "language_info": {
   "codemirror_mode": {
    "name": "ipython",
    "version": 3
   },
   "file_extension": ".py",
   "mimetype": "text/x-python",
   "name": "python",
   "nbconvert_exporter": "python",
   "pygments_lexer": "ipython3",
   "version": "3.8.19"
  }
 },
 "nbformat": 4,
 "nbformat_minor": 2
}
