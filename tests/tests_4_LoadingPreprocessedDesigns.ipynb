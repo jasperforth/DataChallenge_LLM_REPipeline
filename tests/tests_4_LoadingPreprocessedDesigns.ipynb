{
 "cells": [
  {
   "cell_type": "markdown",
   "metadata": {},
   "source": [
    "# Setup and Environment Configuration\n",
    "This notebook sets up the environment, loads necessary modules, and establishes a database connection.\n"
   ]
  },
  {
   "cell_type": "code",
   "execution_count": 5,
   "metadata": {},
   "outputs": [
    {
     "name": "stdout",
     "output_type": "stream",
     "text": [
      "Current sys.path:\n",
      "/Users/jf/miniconda3/envs/data_challenge_git/lib/python38.zip\n",
      "/Users/jf/miniconda3/envs/data_challenge_git/lib/python3.8\n",
      "/Users/jf/miniconda3/envs/data_challenge_git/lib/python3.8/lib-dynload\n",
      "\n",
      "/Users/jf/miniconda3/envs/data_challenge_git/lib/python3.8/site-packages\n",
      "/Users/jf/miniconda3/envs/data_challenge_git/lib/python3.8/site-packages/setuptools/_vendor\n",
      "/Users/jf/_lokal/DataChallenge_LLM_REPipeline/libs\n",
      "/Users/jf/_lokal/DataChallenge_LLM_REPipeline/modules\n",
      "/Users/jf/_lokal/DataChallenge_LLM_REPipeline/libs\n",
      "/Users/jf/_lokal/DataChallenge_LLM_REPipeline/modules\n",
      "\n",
      "Modules path exists: True\n",
      "Modules path: /Users/jf/_lokal/DataChallenge_LLM_REPipeline/modules\n",
      "Module file exists: True\n"
     ]
    }
   ],
   "source": [
    "import sys\n",
    "from pathlib import Path\n",
    "\n",
    "# Print out the current sys.path\n",
    "print(\"Current sys.path:\")\n",
    "for p in sys.path:\n",
    "    print(p)\n",
    "\n",
    "# Check if the modules path exists\n",
    "repo_dir = Path.cwd().parents[0]\n",
    "modules_path = repo_dir / 'modules'\n",
    "print(f\"\\nModules path exists: {modules_path.exists()}\")\n",
    "print(f\"Modules path: {modules_path}\")\n",
    "\n",
    "from pathlib import Path\n",
    "\n",
    "# Check if the file exists\n",
    "module_file = Path(repo_dir / 'modules' / 'loading_preprocessed_designs.py')\n",
    "print(f\"Module file exists: {module_file.exists()}\")\n",
    "\n"
   ]
  },
  {
   "cell_type": "code",
   "execution_count": 2,
   "metadata": {},
   "outputs": [
    {
     "ename": "ModuleNotFoundError",
     "evalue": "No module named 'modules'",
     "output_type": "error",
     "traceback": [
      "\u001b[0;31m---------------------------------------------------------------------------\u001b[0m",
      "\u001b[0;31mModuleNotFoundError\u001b[0m                       Traceback (most recent call last)",
      "Cell \u001b[0;32mIn[2], line 27\u001b[0m\n\u001b[1;32m     25\u001b[0m \u001b[38;5;66;03m# Import Custom Modules and Set Display Options\u001b[39;00m\n\u001b[1;32m     26\u001b[0m \u001b[38;5;28;01mfrom\u001b[39;00m \u001b[38;5;21;01mNLP_on_multilingual_coin_datasets\u001b[39;00m\u001b[38;5;21;01m.\u001b[39;00m\u001b[38;5;21;01mcnt\u001b[39;00m\u001b[38;5;21;01m.\u001b[39;00m\u001b[38;5;21;01mio\u001b[39;00m \u001b[38;5;28;01mimport\u001b[39;00m Database_Connection\n\u001b[0;32m---> 27\u001b[0m \u001b[38;5;28;01mfrom\u001b[39;00m \u001b[38;5;21;01mmodules\u001b[39;00m\u001b[38;5;21;01m.\u001b[39;00m\u001b[38;5;21;01mloading_preprocessed_designs\u001b[39;00m \u001b[38;5;28;01mimport\u001b[39;00m PreprocessingConfig, LoadingPreprocessedDesigns\n\u001b[1;32m     28\u001b[0m \u001b[38;5;28;01mfrom\u001b[39;00m \u001b[38;5;21;01mmodules\u001b[39;00m \u001b[38;5;28;01mimport\u001b[39;00m scripts, prompts\n\u001b[1;32m     30\u001b[0m \u001b[38;5;66;03m# Set up pandas display options for better readability\u001b[39;00m\n",
      "\u001b[0;31mModuleNotFoundError\u001b[0m: No module named 'modules'"
     ]
    }
   ],
   "source": [
    "# Importing Modules and Setting Up Environment Variables\n",
    "\n",
    "import sys\n",
    "import os\n",
    "import pandas as pd\n",
    "from pathlib import Path\n",
    "from dotenv import load_dotenv, find_dotenv\n",
    "from sqlalchemy import create_engine\n",
    "import warnings\n",
    "\n",
    "# Load Environment Variables\n",
    "_ = load_dotenv(find_dotenv())\n",
    "\n",
    "# Add Submodule Path and Verify Symlink\n",
    "repo_dir = Path.cwd().parents[0]  # Move up to the parent directory\n",
    "sys.path.append(str(repo_dir / 'libs'))\n",
    "sys.path.append(str(repo_dir / 'modules'))\n",
    "\n",
    "# Ensure the symlink exists (assuming setup_symlink.py has been executed)\n",
    "symlink_path = repo_dir / 'libs'\n",
    "if not symlink_path.exists():\n",
    "    print(f\"Error: Symlink {symlink_path} does not exist. Run setup_symlink.py first.\")\n",
    "    sys.exit(1)\n",
    "\n",
    "# Import Custom Modules and Set Display Options\n",
    "from NLP_on_multilingual_coin_datasets.cnt.io import Database_Connection\n",
    "from modules.loading_preprocessed_designs import PreprocessingConfig, LoadingPreprocessedDesigns\n",
    "from modules import scripts, prompts\n",
    "\n",
    "# Set up pandas display options for better readability\n",
    "pd.set_option('display.max_columns', None)\n",
    "pd.set_option('display.max_colwidth', None)\n",
    "pd.set_option('display.max_rows', None)\n",
    "pd.set_option('display.width', 1000)\n",
    "\n",
    "# Suppress warnings\n",
    "warnings.filterwarnings('ignore')\n",
    "\n",
    "# Define Database Connection Parameters\n",
    "db_user = os.getenv('DB_USER')\n",
    "db_password = os.getenv('DB_PASSWORD')\n",
    "db_host = os.getenv('DB_HOST')\n",
    "db_port = os.getenv('DB_PORT')\n",
    "database = \"nlp_challenge\"  # Ensure the correct database name is set\n",
    "\n",
    "connection_string = f\"mysql+mysqlconnector://{db_user}:{db_password}@{db_host}:{db_port}/{database}\"\n",
    "engine = create_engine(connection_string)\n"
   ]
  },
  {
   "cell_type": "markdown",
   "metadata": {},
   "source": [
    "# Writing Unit Tests for `LoadingPreprocessedDesigns`\n",
    "This notebook contains unit tests to verify the functionality of the `LoadingPreprocessedDesigns` class.\n"
   ]
  },
  {
   "cell_type": "code",
   "execution_count": null,
   "metadata": {},
   "outputs": [],
   "source": [
    "# Unit Test Class Definition\n",
    "\n",
    "class TestLoadingPreprocessedDesigns(unittest.TestCase):\n",
    "    \n",
    "    @patch('pandas.read_sql_query')\n",
    "    def test_load_entities_success(self, mock_read_sql):\n",
    "        # Mock data returned by read_sql_query\n",
    "        mock_data = pd.DataFrame({\n",
    "            'id': [1, 2],\n",
    "            'name_en': ['entity1', 'entity2'],\n",
    "            'alternativenames_en': ['alt1, alt2', 'alt3']\n",
    "        })\n",
    "        mock_read_sql.return_value = mock_data\n",
    "\n",
    "        result = lpd.load_entities()\n",
    "\n",
    "        # Assert the processed data is as expected\n",
    "        self.assertIn('PERSON', result)\n",
    "        self.assertIn('entity1', result['PERSON'])\n",
    "        self.assertIn('alt2', result['PERSON'])\n",
    "\n",
    "    @patch('pandas.read_sql_query')\n",
    "    def test_load_entities_no_data(self, mock_read_sql):\n",
    "        # Mock an empty dataframe returned by read_sql_query\n",
    "        mock_read_sql.return_value = pd.DataFrame()\n",
    "\n",
    "        result = lpd.load_entities()\n",
    "\n",
    "        # Expect empty result\n",
    "        self.assertEqual(result, {})\n",
    "\n",
    "    def test_load_entities_invalid_add_columns(self):\n",
    "        # Test with invalid add_columns (not a list or string)\n",
    "        lpd.prep_cfg.add_columns = 123  # Invalid type\n",
    "\n",
    "        with self.assertRaises(TypeError):\n",
    "            lpd.load_entities()\n",
    "\n",
    "# Running Unit Tests\n",
    "if __name__ == '__main__':\n",
    "    unittest.main(argv=[''], exit=False)\n"
   ]
  }
 ],
 "metadata": {
  "kernelspec": {
   "display_name": "data_challenge_git",
   "language": "python",
   "name": "python3"
  },
  "language_info": {
   "codemirror_mode": {
    "name": "ipython",
    "version": 3
   },
   "file_extension": ".py",
   "mimetype": "text/x-python",
   "name": "python",
   "nbconvert_exporter": "python",
   "pygments_lexer": "ipython3",
   "version": "3.8.18"
  }
 },
 "nbformat": 4,
 "nbformat_minor": 2
}
